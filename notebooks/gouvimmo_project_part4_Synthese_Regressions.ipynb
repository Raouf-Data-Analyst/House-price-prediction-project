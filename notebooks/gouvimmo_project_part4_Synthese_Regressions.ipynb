{
 "cells": [
  {
   "cell_type": "markdown",
   "id": "6d295c98",
   "metadata": {},
   "source": [
    "### Synthèse de la pré-étude de 4 modèles de Régression appliqués au Projet GouvImmo ======"
   ]
  },
  {
   "cell_type": "markdown",
   "id": "aa2bbe64",
   "metadata": {},
   "source": [
    "#### Introduction :"
   ]
  },
  {
   "cell_type": "markdown",
   "id": "72e2f667",
   "metadata": {},
   "source": [
    "Ce notebook à pour but de produire une première synthèse des résultats obtenus par l'application de 4 modèles de Régression différents dans le cadre du Projet fil rouge \"GouvImmo\" chez Datascientest.\n",
    "Seront étudiés successivement les modèles, Regression Linéaire Multiple, Lasso, Ridge et ElasticNeT.\n",
    "\n",
    "Le but du modèle de régression est de déterminer la variable cible \"Valeur foncière\"."
   ]
  },
  {
   "cell_type": "markdown",
   "id": "9eacbd36",
   "metadata": {},
   "source": [
    "#### Jeu de données :"
   ]
  },
  {
   "cell_type": "markdown",
   "id": "0e315c78",
   "metadata": {},
   "source": [
    "Le dataframe comporte les données de ventes immobilières de la région Ile de France, de 2019 à 2021. Il comporte des variables relatives à la localisation du bien, au type de bien vendu, à sa valeur et à ses carractéristiques (surface, nombre de pièces, nombre de dépendances, ...).\n",
    "\n",
    "Une vente est appellée \"mutation\", et est identifiée par un numéro unique \"id_mutation\". Chaque mutation comporte au moins un \"bien primaire\", c'est à dire une maison, un appartement ou un terrain à bâtir. Une mutation peut également comporter un ou plusieurs biens secondaires, c'est à dire 1 à 2 \"terrain autre\" (aussi appelé \"terrain secondaire\") et / ou 1 à 2 dépendances.\n",
    "\n",
    "Les données utilisées en entrée de cette étape ont été visualisées et traitées dans le notebook nommé gouvimmo_project_part3 (DataViz) et sauvegardées dans un fichier csv nommé IDF_2019_to_2021_v3.csv"
   ]
  },
  {
   "cell_type": "markdown",
   "id": "19855b6a",
   "metadata": {},
   "source": [
    "#### Objectifs de l'étape :"
   ]
  },
  {
   "cell_type": "markdown",
   "id": "fb99772e",
   "metadata": {},
   "source": [
    "Cette étape a pour but de tester, relativement simplement dans un premier temps, 4 modèles de régression et \n",
    "différentes pistes d'améliorations des résultats, afin d'être en mesure de poursuivre l'étape suivante du\n",
    "projet avec les meilleures options possibles."
   ]
  },
  {
   "cell_type": "code",
   "execution_count": null,
   "id": "1b79b2b6",
   "metadata": {},
   "outputs": [],
   "source": []
  },
  {
   "cell_type": "markdown",
   "id": "7ef93620",
   "metadata": {},
   "source": [
    "#### Regression Linéaire Multiple ======================"
   ]
  },
  {
   "cell_type": "markdown",
   "id": "2fa6d2f8",
   "metadata": {},
   "source": [
    "Le notebook relatif à cette étude se nomme : gouvimmo_project_part4_LinearRegression.ipynb"
   ]
  },
  {
   "cell_type": "markdown",
   "id": "74c0832f",
   "metadata": {},
   "source": [
    "#### Synthèse et conclusions ========================="
   ]
  },
  {
   "cell_type": "markdown",
   "id": "70993fb0",
   "metadata": {},
   "source": [
    "Bien que les variables prix au m2 aient été conservées dans cette première analyse, les résultats obtenus\n",
    "par régression linéaire ne sont pas très encourageants (Score R2 : 0,81). Avec les mêmes hypothèses de départ,\n",
    "les 3 autres modèles de régression font mieux (Score R2 : 0,99). Nous ne poursuivrons pas l'étape suivante\n",
    "avec ce modèle."
   ]
  },
  {
   "cell_type": "code",
   "execution_count": null,
   "id": "53e1463c",
   "metadata": {},
   "outputs": [],
   "source": []
  },
  {
   "cell_type": "markdown",
   "id": "3d2fa12b",
   "metadata": {},
   "source": [
    "#### Regression Lasso =============================="
   ]
  },
  {
   "cell_type": "markdown",
   "id": "1875f601",
   "metadata": {},
   "source": [
    "Le notebook relatif à cette étude se nomme : gouvimmo_project_part4_Lasso.ipynb"
   ]
  },
  {
   "cell_type": "markdown",
   "id": "5948f61e",
   "metadata": {},
   "source": [
    "#### Synthèse et conclusions ========================="
   ]
  },
  {
   "cell_type": "markdown",
   "id": "9785555a",
   "metadata": {},
   "source": [
    "Le modèles lasso montre des résultats correctes mais encore insuffisants. Le modèle n'arrive pas à traiter \n",
    "correctement les variables de localisation en l'état. La dichotomisation des codes départements et \n",
    "le pré-traitement polynomial se sont montrés efficaces pour améliorer les performances du modèle.\n",
    "\n",
    "La prochaine étape consistera à trouver une méthode efficace pour traiter les variables de localisation \n",
    "avant d'entrainer le modèle. Une piste consisterait à dichotomiser les codes commune, et \n",
    "d'apliquer des méthodes de réduction de dimentions comme l'ACP pour réduire la taille du dataset \n",
    "après dichotomisation.\n",
    "\n",
    "Par la suite, nous chercherons à optimiser les hyperparamètres de notre modèle grâce à GridSearchCV ou \n",
    "en utilisant le modèle LassoCV."
   ]
  },
  {
   "cell_type": "code",
   "execution_count": null,
   "id": "6cc2ce07",
   "metadata": {},
   "outputs": [],
   "source": []
  },
  {
   "cell_type": "markdown",
   "id": "0a1aa519",
   "metadata": {},
   "source": [
    "#### Regression Ridge =============================="
   ]
  },
  {
   "cell_type": "markdown",
   "id": "a65142ba",
   "metadata": {},
   "source": [
    "Le notebook relatif à cette étude se nomme : gouvimmo_project_part4_Ridge.ipynb"
   ]
  },
  {
   "cell_type": "markdown",
   "id": "e5a6713e",
   "metadata": {},
   "source": [
    "#### Synthèse et conclusions ========================="
   ]
  },
  {
   "cell_type": "markdown",
   "id": "c6facccb",
   "metadata": {},
   "source": [
    "les 7 premières itérations menées ont permis de faire progresser le score de 0,43 à 0,80. La MAE reste toujours importante.\n",
    "On voit ici l'importance de la standardisation avant l'application de tout autre type d'algorithme.\n",
    "La normalisation polynomiale et l'encodage ont permis de faire progresser le score.\n",
    "L'étude détaillée des résultats nous montre que le modèle n'est pas encore suffisamment performant.\n",
    "Le découpage du DataSet en fonction du type de bien permet également une légère amélioration du score (0,828).\n",
    "Enfin, l'encodage de 3 variables de localisation associé à une réduction de dimension et la sélection d'un type de bien ont permis d'obtenir le meilleur résultat (0,839).\n",
    "\n",
    "Pour aller encore plus loin avec le modèle Ridge, il faudrait tester d'autres features selections ou réductions de dimension afin de profiter pleinement de l'encodage des variables de localisation sans trop dégrader le modèle.\n",
    "L'objectif est toujours de s'appuyer sur ces données afin de remplacer le prix au m2, base essentielle de l'évaluation de la valeur foncière.\n",
    "Il faudra probablement enterriner le fait d'organiser la solution autour de 3 Datasets et 3 Modèles (1 par type de bien)"
   ]
  },
  {
   "cell_type": "code",
   "execution_count": null,
   "id": "8ab6998d",
   "metadata": {},
   "outputs": [],
   "source": []
  },
  {
   "cell_type": "markdown",
   "id": "6c984b5f",
   "metadata": {},
   "source": [
    "#### Regression ElasticNet ==========================="
   ]
  },
  {
   "cell_type": "markdown",
   "id": "7c8fc805",
   "metadata": {},
   "source": [
    "Le notebook relatif à cette étude se nomme : gouvimmo_project_part4_ElasticNet.ipynb"
   ]
  },
  {
   "cell_type": "markdown",
   "id": "e7b1a71c",
   "metadata": {},
   "source": [
    "#### Synthèse et conclusions ========================="
   ]
  },
  {
   "cell_type": "markdown",
   "id": "01783d68",
   "metadata": {},
   "source": [
    "un score de\n",
    "\n",
    "train_set Score : 0.7386784400463458\n",
    "test_set Score : 0.7422812345460255\n",
    "\n",
    "est obtenu.\n",
    "\n",
    "L'application de model ElasticNet sur nos données a pemis d'avoir un score aux alentour 74 % avec un leger overfiting entre train_set et test_set\n",
    "\n",
    "le RMSE\n",
    "\n",
    "RSME train_set : 148486.1487509462\n",
    "RMSE test_set : 146287.34129065787\n",
    "\n",
    "une première modélisation permet d'avoir des résultats acceptables mais en dessous de l'objectif.\n",
    "\n",
    "les données de localisation disponibles ne sont pas encore directement utilisables, la prochaine étape consistera à construire des représentations ou des transformations des données de localisation d'origine.\n",
    "\n",
    "L'application des connaissances de domaine supplémentaires aux informations brutes afin de les structurer d'une manière significative pour notre modèle, en partant sur le principe que les choses qui sont proches les unes des autres sont souvent liées"
   ]
  },
  {
   "cell_type": "code",
   "execution_count": null,
   "id": "f8975e04",
   "metadata": {},
   "outputs": [],
   "source": []
  },
  {
   "cell_type": "markdown",
   "id": "c5b259c8",
   "metadata": {},
   "source": [
    "#### Synthèse et conclusions générales ==============="
   ]
  },
  {
   "cell_type": "markdown",
   "id": "d4191cb8",
   "metadata": {},
   "source": [
    "Compte tenu des résultats obtenus lors de cette première étape de pré-évaluation de la performance des 4 modèles de régression ciblés, nous poursuivrons l'étude sans :\n",
    "la Régression Linéaire (scores plus faibles que les autres modèles même avec les prix au m2), \n",
    "ElasticNet (de base moins bien placé que Lasso),\n",
    "Ridge ( poussé un peu plus loin il semble déjà atteindre ses limites)\n",
    "Pour l’itération suivante, nous croiserons les différentes pistes déjà testées, plus de nouvelles (ACP, …) avec le modèle de régression Lasso, qui sur la base des premiers tests semble être le plus prometteur."
   ]
  }
 ],
 "metadata": {
  "kernelspec": {
   "display_name": "Python 3 (ipykernel)",
   "language": "python",
   "name": "python3"
  },
  "language_info": {
   "codemirror_mode": {
    "name": "ipython",
    "version": 3
   },
   "file_extension": ".py",
   "mimetype": "text/x-python",
   "name": "python",
   "nbconvert_exporter": "python",
   "pygments_lexer": "ipython3",
   "version": "3.9.7"
  }
 },
 "nbformat": 4,
 "nbformat_minor": 5
}
